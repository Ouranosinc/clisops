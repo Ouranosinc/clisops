{
 "cells": [
  {
   "cell_type": "code",
   "execution_count": null,
   "metadata": {},
   "outputs": [],
   "source": [
    "from clisops.utils import get_file\n",
    "# fetch files locally or from github\n",
    "tas_files = get_file([\n",
    "    \"cmip5/tas_Amon_HadGEM2-ES_rcp85_r1i1p1_200512-203011.nc\",\n",
    "    \"cmip5/tas_Amon_HadGEM2-ES_rcp85_r1i1p1_203012-205511.nc\",\n",
    "    \"cmip5/tas_Amon_HadGEM2-ES_rcp85_r1i1p1_205512-208011.nc\",\n",
    "    \"cmip5/tas_Amon_HadGEM2-ES_rcp85_r1i1p1_208012-209912.nc\",\n",
    "    \"cmip5/tas_Amon_HadGEM2-ES_rcp85_r1i1p1_209912-212411.nc\",\n",
    "    \"cmip5/tas_Amon_HadGEM2-ES_rcp85_r1i1p1_212412-214911.nc\",\n",
    "    \"cmip5/tas_Amon_HadGEM2-ES_rcp85_r1i1p1_214912-217411.nc\",\n",
    "    \"cmip5/tas_Amon_HadGEM2-ES_rcp85_r1i1p1_217412-219911.nc\",\n",
    "    \"cmip5/tas_Amon_HadGEM2-ES_rcp85_r1i1p1_219912-222411.nc\",\n",
    "    \"cmip5/tas_Amon_HadGEM2-ES_rcp85_r1i1p1_222412-224911.nc\",\n",
    "    \"cmip5/tas_Amon_HadGEM2-ES_rcp85_r1i1p1_224912-227411.nc\",\n",
    "    \"cmip5/tas_Amon_HadGEM2-ES_rcp85_r1i1p1_227412-229911.nc\",\n",
    "    \"cmip5/tas_Amon_HadGEM2-ES_rcp85_r1i1p1_229912-229912.nc\"\n",
    "], branch=\"add_cmip5_hadgem\")\n",
    "\n",
    "o3_file = get_file(\"cmip6/o3_Amon_GFDL-ESM4_historical_r1i1p1f1_gr1_185001-194912.nc\")\n",
    "\n",
    "# remove previously created example file\n",
    "import os\n",
    "if os.path.exists(\"./output_001.nc\"):\n",
    "    os.remove(\"./output_001.nc\")"
   ]
  }
 ],
 "metadata": {
  "kernelspec": {
   "display_name": "Python 3",
   "language": "python",
   "name": "python3"
  },
  "language_info": {
   "codemirror_mode": {
    "name": "ipython",
    "version": 3
   },
   "file_extension": ".py",
   "mimetype": "text/x-python",
   "name": "python",
   "nbconvert_exporter": "python",
   "pygments_lexer": "ipython3",
   "version": "3.7.6"
  }
 },
 "nbformat": 4,
 "nbformat_minor": 4
}
