{
 "cells": [
  {
   "cell_type": "code",
   "execution_count": null,
   "metadata": {},
   "outputs": [],
   "source": [
    "import clisops\n",
    "\n",
    "# remove previosuly created example file\n",
    "import os\n",
    "if os.path.exists(\"./output_001.nc\"):\n",
    "    os.remove(\"./output_001.nc\")"
   ]
  },
  {
   "cell_type": "markdown",
   "metadata": {},
   "source": [
    "# Subsetting\n",
    "\n",
    "The subset operation makes use of `clisops.core.subset` to process the datasets and to set the output type and the output file names."
   ]
  },
  {
   "cell_type": "code",
   "execution_count": null,
   "metadata": {},
   "outputs": [],
   "source": [
    "from clisops.ops.subset import subset\n",
    "import xarray as xr"
   ]
  },
  {
   "cell_type": "markdown",
   "metadata": {},
   "source": [
    "`subset` takes several parameters:\n",
    "\n",
    "Parameters\n",
    "----------\n",
    "    ds: xr.Dataset\n",
    "    time: Tuple[dt, dt], optional\n",
    "    area: Tuple[Union[int, float], Union[int, float],Union[int, float],Union[int, float]], optional\n",
    "    level: int, optional\n",
    "    output_dir: Union[str, Path], optional\n",
    "    output_type: {\"netcdf\", \"nc\", \"zarr\", \"xarray\"}\n",
    "    split_method: {\"time:auto\"}\n",
    "    file_namer: {\"standard\"}\n",
    "    \n",
    "    \n",
    "The output is a list containing the outputs in the format selected.    "
   ]
  },
  {
   "cell_type": "code",
   "execution_count": null,
   "metadata": {},
   "outputs": [],
   "source": [
    "ds = xr.open_mfdataset(\"tas/*.nc\", use_cftime=True, combine=\"by_coords\")"
   ]
  },
  {
   "cell_type": "markdown",
   "metadata": {},
   "source": [
    "### Output to xarray"
   ]
  },
  {
   "cell_type": "code",
   "execution_count": null,
   "metadata": {},
   "outputs": [],
   "source": [
    "outputs = subset(\n",
    "        ds=ds,\n",
    "        time=(\"2007-01-01T00:00:00\", \"2200-12-30T00:00:00\"),\n",
    "        area=(0.0, 10.0, 175.0, 90.0),\n",
    "        output_type=\"xarray\",\n",
    "    )\n",
    "\n",
    "print(len(outputs))\n",
    "print(\"There is only one output\")\n",
    "\n",
    "outputs[0]"
   ]
  },
  {
   "cell_type": "markdown",
   "metadata": {},
   "source": [
    "### Output to netCDF with simple namer"
   ]
  },
  {
   "cell_type": "code",
   "execution_count": null,
   "metadata": {},
   "outputs": [],
   "source": [
    "outputs = subset(\n",
    "        ds=ds,\n",
    "        time=(\"2007-01-01T00:00:00\", \"2200-12-30T00:00:00\"),\n",
    "        area=(0.0, 10.0, 175.0, 90.0),\n",
    "        output_type=\"nc\",\n",
    "        output_dir=\".\",\n",
    "        split_method=\"time:auto\",\n",
    "        file_namer=\"simple\"\n",
    "    )\n",
    "\n",
    "print(\"There is only one output as the file size is under the memory limit so does not need to be split.\")\n",
    "print(\"This example uses the simple namer which numbers output files\")"
   ]
  },
  {
   "cell_type": "code",
   "execution_count": null,
   "metadata": {},
   "outputs": [],
   "source": [
    "# To open the file\n",
    "\n",
    "subset_ds = xr.open_mfdataset(\"./output_001.nc\", use_cftime=True, combine=\"by_coords\")\n",
    "\n",
    "subset_ds"
   ]
  },
  {
   "cell_type": "markdown",
   "metadata": {},
   "source": [
    "### Output to netCDF with standard namer"
   ]
  },
  {
   "cell_type": "code",
   "execution_count": null,
   "metadata": {},
   "outputs": [],
   "source": [
    "outputs = subset(\n",
    "        ds=ds,\n",
    "        time=(\"2007-01-01T00:00:00\", \"2200-12-30T00:00:00\"),\n",
    "        area=(0.0, 10.0, 175.0, 90.0),\n",
    "        output_type=\"nc\",\n",
    "        output_dir=\".\",\n",
    "        split_method=\"time:auto\",\n",
    "        file_namer=\"standard\"\n",
    "    )\n",
    "\n",
    "print(\"\\nThere is only one output as the file size is under the memory limit so does not need to be split.\")\n",
    "print(\"This example uses the standard namer which names output filesa ccording the the input file and how it has been subsetted.\")"
   ]
  },
  {
   "cell_type": "markdown",
   "metadata": {},
   "source": [
    "### Subsetting by level"
   ]
  },
  {
   "cell_type": "code",
   "execution_count": null,
   "metadata": {},
   "outputs": [],
   "source": [
    "ds = xr.open_mfdataset(\"cmip6/*.nc\", use_cftime=True, combine=\"by_coords\")"
   ]
  },
  {
   "cell_type": "markdown",
   "metadata": {},
   "source": [
    "#### No subsetting applied"
   ]
  },
  {
   "cell_type": "code",
   "execution_count": null,
   "metadata": {},
   "outputs": [],
   "source": [
    "result = subset(ds=ds,  \n",
    "                output_type=\"xarray\")\n",
    "\n",
    "result[0].coords"
   ]
  },
  {
   "cell_type": "markdown",
   "metadata": {},
   "source": [
    "#### Subsetting over level"
   ]
  },
  {
   "cell_type": "code",
   "execution_count": null,
   "metadata": {},
   "outputs": [],
   "source": [
    "# subsetting over plev \n",
    "\n",
    "result = subset(ds=ds,  \n",
    "                level=\"600/100\",\n",
    "                output_type=\"xarray\")\n",
    "\n",
    "print(result[0].coords)\n",
    "\n",
    "print(\"\\nplev has been subsetted and now only has 2 values\")"
   ]
  }
 ],
 "metadata": {
  "kernelspec": {
   "display_name": "Python 3",
   "language": "python",
   "name": "python3"
  },
  "language_info": {
   "codemirror_mode": {
    "name": "ipython",
    "version": 3
   },
   "file_extension": ".py",
   "mimetype": "text/x-python",
   "name": "python",
   "nbconvert_exporter": "python",
   "pygments_lexer": "ipython3",
   "version": "3.7.8"
  }
 },
 "nbformat": 4,
 "nbformat_minor": 4
}
